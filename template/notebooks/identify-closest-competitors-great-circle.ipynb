{
 "cells": [
  {
   "cell_type": "markdown",
   "id": "775877f1",
   "metadata": {},
   "source": [
    "# Using Great Circle distance to find closest competitors\n",
    "\n",
    "This notebook helps you calculate great circle distances to identify close or the closest other locations to a set of 'source locations'. This uses Latitude and Longitude information -- if you only have street addresses, you need to geocode them, see the HERE Maps API for examples. \n",
    "\n",
    "The distance calculations functions are defined within the notebook. In future versions, we will move them to the utilities folder into re-usable .py files.\n",
    "\n",
    "For questions, email daniel.wang@oliverwyman.com"
   ]
  },
  {
   "cell_type": "markdown",
   "id": "d776139b",
   "metadata": {},
   "source": [
    "**Import Python libaries**"
   ]
  },
  {
   "cell_type": "code",
   "execution_count": 1,
   "id": "4edc7a11",
   "metadata": {},
   "outputs": [],
   "source": [
    "import pandas as pd\n",
    "import numpy as np"
   ]
  },
  {
   "cell_type": "markdown",
   "id": "d6a35b4f",
   "metadata": {},
   "source": [
    "# Load in and prep the data\n",
    "\n",
    "In this example, we have 1 input table with locations for both the 'sources' and 'targets'"
   ]
  },
  {
   "cell_type": "code",
   "execution_count": 2,
   "id": "744caa4f",
   "metadata": {},
   "outputs": [],
   "source": [
    "dataset = pd.read_csv(\"sample_input/inputs.csv\", low_memory=False)"
   ]
  },
  {
   "cell_type": "code",
   "execution_count": 3,
   "id": "8a42464f",
   "metadata": {},
   "outputs": [
    {
     "data": {
      "text/plain": [
       "(6249, 4)"
      ]
     },
     "execution_count": 3,
     "metadata": {},
     "output_type": "execute_result"
    }
   ],
   "source": [
    "from_data = dataset.loc[dataset['Category'] == \"A\"].reset_index(drop=True)\n",
    "from_data.shape"
   ]
  },
  {
   "cell_type": "code",
   "execution_count": 4,
   "id": "3ff78e14",
   "metadata": {},
   "outputs": [
    {
     "data": {
      "text/plain": [
       "(16769, 4)"
      ]
     },
     "execution_count": 4,
     "metadata": {},
     "output_type": "execute_result"
    }
   ],
   "source": [
    "to_data = dataset.loc[dataset['Category'] != \"B\"].reset_index(drop=True)\n",
    "to_data.shape"
   ]
  },
  {
   "cell_type": "markdown",
   "id": "6c704913",
   "metadata": {},
   "source": [
    "# Define functions for great circle distance calculation"
   ]
  },
  {
   "cell_type": "code",
   "execution_count": 5,
   "id": "5b563029",
   "metadata": {
    "code_folding": [
     1
    ]
   },
   "outputs": [],
   "source": [
    "# Generic function for calculating great circle distance, vectorized\n",
    "def great_circle_distance(lon1, lat1, lon2, lat2, unit='miles'):\n",
    "    \"\"\"    \n",
    "    Calculate the great circle distance between two points\n",
    "    on the earth (specified in decimal degrees)\n",
    "    \"\"\"\n",
    "\n",
    "    # convert decimal degrees to radians    \n",
    "    lon1, lat1, lon2, lat2 = map(np.radians, [lon1, lat1, lon2, lat2])    # haversine formula    \n",
    "    dlon = lon2 - lon1    \n",
    "    dlat = lat2 - lat1    \n",
    "    a = np.sin(dlat/2)**2 + np.cos(lat1) * np.cos(lat2) * np.sin(dlon/2)**2    \n",
    "    c = 2 * np.arcsin(np.sqrt(a))    \n",
    "    \n",
    "    if unit in [\"miles\", \"mile\"]:\n",
    "        r = 3958.756 # Radius of earth in miles\n",
    "    elif unit in [\"km\", \"kilometer\", \"kilometers\"]:\n",
    "        r = 6371.0 # Radius of earth in kms\n",
    "\n",
    "    return c * r"
   ]
  },
  {
   "cell_type": "code",
   "execution_count": 6,
   "id": "5eeb865d",
   "metadata": {
    "code_folding": [
     1
    ]
   },
   "outputs": [],
   "source": [
    "# Function for getting closest distance only.  \n",
    "def get_closest(origin, targets, lon_column=\"Lon\", lat_column=\"Lat\", unit='miles', append_origin=False):\n",
    "    \"\"\"\n",
    "    Great circle distance between an origin (single row in dataframe) and a dataframe with target destinations. \n",
    "    lon_column is the column name containing Longitude\n",
    "    lat_column is the column name containing Latitude\n",
    "    append_origin should be true to add the origin information\n",
    "    \"\"\"\n",
    "    \n",
    "    targets['great_circle_distance'] = great_circle_distance(origin[lon_column], origin[lat_column], \n",
    "                                                             targets[lon_column], targets[lat_column])\n",
    "    \n",
    "    # Find the row with the closest\n",
    "    minimum = pd.DataFrame(targets.iloc[targets['great_circle_distance'].argmin()]).T\n",
    "    \n",
    "    if append_origin:\n",
    "        for col in origin.index:\n",
    "            minimum[\"Origin: {}\".format(col)] = origin[col]\n",
    "\n",
    "    return minimum\n"
   ]
  },
  {
   "cell_type": "code",
   "execution_count": 7,
   "id": "1e0875ac",
   "metadata": {
    "code_folding": [
     1
    ]
   },
   "outputs": [],
   "source": [
    "# Function for getting all within certain distance threshold\n",
    "def get_within_threshold(origin, targets, threshold, always_include_closest=False, \n",
    "                         lon_column=\"Lon\", lat_column=\"Lat\", unit='miles', append_origin=False):\n",
    "    \"\"\"\n",
    "    Great circle distance between an origin (single row in dataframe) and a dataframe with target destinations. \n",
    "    threshold is the max distance in units\n",
    "    if always_include_closest is True, the closest is always included, even if outside the threshold\n",
    "    lon_column is the column name containing Longitude\n",
    "    lat_column is the column name containing Latitude\n",
    "    \"\"\"\n",
    "    \n",
    "    targets['great_circle_distance'] = great_circle_distance(origin[lon_column], origin[lat_column], \n",
    "                                                             targets[lon_column], targets[lat_column])\n",
    "    \n",
    "    # Get all within threshold\n",
    "    within_threshold = targets.loc[targets['great_circle_distance'] <= threshold].sort_values(\"great_circle_distance\").reset_index(drop=True)\n",
    "    \n",
    "    if within_threshold.shape[0]:\n",
    "        minimum = within_threshold['great_circle_distance'].argmin()\n",
    "        within_threshold['closest'] = False\n",
    "        within_threshold.loc[minimum,'closest'] = True   # using loc is acceptable as the index has been reset\n",
    "        output = within_threshold\n",
    "        \n",
    "    else:\n",
    "        if always_include_closest:\n",
    "            # Find the row with the closest\n",
    "            minimum = targets['great_circle_distance'].argmin()\n",
    "            output = pd.DataFrame(targets.iloc[minimum]).T\n",
    "            output['closest'] = True\n",
    "    \n",
    "    if append_origin:\n",
    "        for col in origin.index:\n",
    "            output[\"Origin: {}\".format(col)] = origin[col]\n",
    "    \n",
    "    return output"
   ]
  },
  {
   "cell_type": "markdown",
   "id": "804a69a3",
   "metadata": {},
   "source": [
    "# Get closest location only\n",
    "\n",
    "We can use apply() on a dataframe, or we can use a loop. The advantage with the loop is that it tracks progress, and if it breaks midway, we can continue where it left off by modifying the loop and keeping the output_list.\n",
    "\n",
    "If you are working with very large tables, using apply or a parallel processing method is preferred."
   ]
  },
  {
   "cell_type": "code",
   "execution_count": 8,
   "id": "561495bc",
   "metadata": {
    "scrolled": true
   },
   "outputs": [
    {
     "name": "stdout",
     "output_type": "stream",
     "text": [
      "Processing 1 out of 6250 items\n",
      "Processing 501 out of 6250 items\n",
      "Processing 1001 out of 6250 items\n",
      "Processing 1501 out of 6250 items\n",
      "Processing 2001 out of 6250 items\n",
      "Processing 2501 out of 6250 items\n",
      "Processing 3001 out of 6250 items\n",
      "Processing 3501 out of 6250 items\n",
      "Processing 4001 out of 6250 items\n",
      "Processing 4501 out of 6250 items\n",
      "Processing 5001 out of 6250 items\n",
      "Processing 5501 out of 6250 items\n",
      "Processing 6001 out of 6250 items\n"
     ]
    }
   ],
   "source": [
    "output_list = []\n",
    "\n",
    "nrows = from_data.shape[0]\n",
    "for index, row in from_data.iterrows():\n",
    "    \n",
    "    if index % 500==0: print(\"Processing {} out of {} items\".format(index+1, nrows+1))\n",
    "    \n",
    "    result = get_closest(row, targets = to_data, lon_column=\"Longitude\", lat_column=\"Latitude\", unit='miles', append_origin=True)\n",
    "    \n",
    "    output_list.append(result)"
   ]
  },
  {
   "cell_type": "markdown",
   "id": "8585aea8",
   "metadata": {},
   "source": [
    "**If the code above was interrupted, and you want to continue from where it left off, then run this code below (uncomment it first)**"
   ]
  },
  {
   "cell_type": "code",
   "execution_count": 9,
   "id": "0975f27a",
   "metadata": {},
   "outputs": [],
   "source": [
    "# start_row = len(output_list)\n",
    "# for index, row in from_data.reset_index(drop=True).iterrows():\n",
    "#     if index < start_row:\n",
    "#         continue\n",
    "#     if index % 100==0: print(\"Processing {} out of {} items\".format(index+1, nrows+1))\n",
    "    \n",
    "#     result = get_closest(row, targets = to_data, lon_column=\"Longitude\", lat_column=\"Latitude\", unit='miles', append_origin=True)\n",
    "    \n",
    "#     output_list.append(result)"
   ]
  },
  {
   "cell_type": "code",
   "execution_count": 10,
   "id": "4564dd3b",
   "metadata": {},
   "outputs": [
    {
     "data": {
      "text/html": [
       "<div>\n",
       "<style scoped>\n",
       "    .dataframe tbody tr th:only-of-type {\n",
       "        vertical-align: middle;\n",
       "    }\n",
       "\n",
       "    .dataframe tbody tr th {\n",
       "        vertical-align: top;\n",
       "    }\n",
       "\n",
       "    .dataframe thead th {\n",
       "        text-align: right;\n",
       "    }\n",
       "</style>\n",
       "<table border=\"1\" class=\"dataframe\">\n",
       "  <thead>\n",
       "    <tr style=\"text-align: right;\">\n",
       "      <th></th>\n",
       "      <th>ID</th>\n",
       "      <th>Category</th>\n",
       "      <th>Latitude</th>\n",
       "      <th>Longitude</th>\n",
       "      <th>great_circle_distance</th>\n",
       "      <th>Origin: ID</th>\n",
       "      <th>Origin: Category</th>\n",
       "      <th>Origin: Latitude</th>\n",
       "      <th>Origin: Longitude</th>\n",
       "    </tr>\n",
       "  </thead>\n",
       "  <tbody>\n",
       "    <tr>\n",
       "      <th>4</th>\n",
       "      <td>5</td>\n",
       "      <td>A</td>\n",
       "      <td>40.838419</td>\n",
       "      <td>-73.811787</td>\n",
       "      <td>0.0</td>\n",
       "      <td>5</td>\n",
       "      <td>A</td>\n",
       "      <td>40.838419</td>\n",
       "      <td>-73.811787</td>\n",
       "    </tr>\n",
       "    <tr>\n",
       "      <th>5</th>\n",
       "      <td>6</td>\n",
       "      <td>A</td>\n",
       "      <td>48.921904</td>\n",
       "      <td>-122.312536</td>\n",
       "      <td>0.0</td>\n",
       "      <td>6</td>\n",
       "      <td>A</td>\n",
       "      <td>48.921904</td>\n",
       "      <td>-122.312536</td>\n",
       "    </tr>\n",
       "    <tr>\n",
       "      <th>8</th>\n",
       "      <td>9</td>\n",
       "      <td>A</td>\n",
       "      <td>40.058377</td>\n",
       "      <td>-75.13899</td>\n",
       "      <td>0.0</td>\n",
       "      <td>9</td>\n",
       "      <td>A</td>\n",
       "      <td>40.058377</td>\n",
       "      <td>-75.138990</td>\n",
       "    </tr>\n",
       "    <tr>\n",
       "      <th>9</th>\n",
       "      <td>10</td>\n",
       "      <td>A</td>\n",
       "      <td>33.978845</td>\n",
       "      <td>-117.678706</td>\n",
       "      <td>0.0</td>\n",
       "      <td>10</td>\n",
       "      <td>A</td>\n",
       "      <td>33.978845</td>\n",
       "      <td>-117.678706</td>\n",
       "    </tr>\n",
       "    <tr>\n",
       "      <th>13</th>\n",
       "      <td>15</td>\n",
       "      <td>A</td>\n",
       "      <td>43.494928</td>\n",
       "      <td>-73.398742</td>\n",
       "      <td>0.0</td>\n",
       "      <td>15</td>\n",
       "      <td>A</td>\n",
       "      <td>43.494928</td>\n",
       "      <td>-73.398742</td>\n",
       "    </tr>\n",
       "  </tbody>\n",
       "</table>\n",
       "</div>"
      ],
      "text/plain": [
       "    ID Category   Latitude   Longitude great_circle_distance  Origin: ID  \\\n",
       "4    5        A  40.838419  -73.811787                   0.0           5   \n",
       "5    6        A  48.921904 -122.312536                   0.0           6   \n",
       "8    9        A  40.058377   -75.13899                   0.0           9   \n",
       "9   10        A  33.978845 -117.678706                   0.0          10   \n",
       "13  15        A  43.494928  -73.398742                   0.0          15   \n",
       "\n",
       "   Origin: Category  Origin: Latitude  Origin: Longitude  \n",
       "4                 A         40.838419         -73.811787  \n",
       "5                 A         48.921904        -122.312536  \n",
       "8                 A         40.058377         -75.138990  \n",
       "9                 A         33.978845        -117.678706  \n",
       "13                A         43.494928         -73.398742  "
      ]
     },
     "execution_count": 10,
     "metadata": {},
     "output_type": "execute_result"
    }
   ],
   "source": [
    "closest_results = pd.concat(output_list)\n",
    "closest_results.head()"
   ]
  },
  {
   "cell_type": "markdown",
   "id": "6ebbf2dc",
   "metadata": {},
   "source": [
    "**Save results into csv**. Rename the output as needed."
   ]
  },
  {
   "cell_type": "code",
   "execution_count": 11,
   "id": "da445858",
   "metadata": {},
   "outputs": [],
   "source": [
    "closest_results.to_csv(\"sample_output/closest_competitor.csv\")"
   ]
  },
  {
   "cell_type": "markdown",
   "id": "be06ff39",
   "metadata": {},
   "source": [
    "# Get all distances within a certain threshold\n",
    "\n",
    "We can use apply() on a dataframe, or we can use a loop. The advantage with the loop is that it tracks progress, and if it breaks midway, we can continue where it left off by modifying the loop and keeping the output_list. \n",
    "\n",
    "If you are working with very large tables, using apply or a parallel processing method is preferred.\n",
    "\n",
    "**The example below uses a threshold of 10 miles, but you can modify this as needed**"
   ]
  },
  {
   "cell_type": "code",
   "execution_count": 12,
   "id": "426a0b12",
   "metadata": {
    "scrolled": true
   },
   "outputs": [
    {
     "name": "stdout",
     "output_type": "stream",
     "text": [
      "Processing 1 out of 6250 items\n",
      "Processing 501 out of 6250 items\n",
      "Processing 1001 out of 6250 items\n",
      "Processing 1501 out of 6250 items\n",
      "Processing 2001 out of 6250 items\n",
      "Processing 2501 out of 6250 items\n",
      "Processing 3001 out of 6250 items\n",
      "Processing 3501 out of 6250 items\n",
      "Processing 4001 out of 6250 items\n",
      "Processing 4501 out of 6250 items\n",
      "Processing 5001 out of 6250 items\n",
      "Processing 5501 out of 6250 items\n",
      "Processing 6001 out of 6250 items\n"
     ]
    }
   ],
   "source": [
    "output_list = []\n",
    "nrows = from_data.shape[0]\n",
    "for index, row in from_data.iterrows():\n",
    "    \n",
    "    if index % 500==0: print(\"Processing {} out of {} items\".format(index+1, nrows+1))\n",
    "    \n",
    "    result = get_within_threshold(row, targets = to_data, \n",
    "                                  threshold = 10, always_include_closest=True,\n",
    "                                  lon_column=\"Longitude\", lat_column=\"Latitude\", unit='miles', append_origin=True)\n",
    "    \n",
    "    output_list.append(result)"
   ]
  },
  {
   "cell_type": "markdown",
   "id": "7777e3ee",
   "metadata": {},
   "source": [
    "**If the code above was interrupted, and you want to continue from where it left off, then run this code below (uncomment it first)**"
   ]
  },
  {
   "cell_type": "code",
   "execution_count": 13,
   "id": "cdd260c1",
   "metadata": {},
   "outputs": [],
   "source": [
    "# start_row = len(output_list)\n",
    "# for index, row in from_data.reset_index(drop=True).iterrows():\n",
    "#     if index < start_row:\n",
    "#         continue\n",
    "#     if index % 100==0: print(\"Processing {} out of {} items\".format(index+1, nrows+1))\n",
    "    \n",
    "#     result = get_within_threshold(row, targets = to_data, \n",
    "#                                   threshold = 10, always_include_closest=True,\n",
    "#                                   lon_column=\"Longitude\", lat_column=\"Latitude\", unit='miles', append_origin=True)\n",
    "    \n",
    "#     output_list.append(result)"
   ]
  },
  {
   "cell_type": "code",
   "execution_count": 14,
   "id": "3d9dbec2",
   "metadata": {},
   "outputs": [
    {
     "data": {
      "text/html": [
       "<div>\n",
       "<style scoped>\n",
       "    .dataframe tbody tr th:only-of-type {\n",
       "        vertical-align: middle;\n",
       "    }\n",
       "\n",
       "    .dataframe tbody tr th {\n",
       "        vertical-align: top;\n",
       "    }\n",
       "\n",
       "    .dataframe thead th {\n",
       "        text-align: right;\n",
       "    }\n",
       "</style>\n",
       "<table border=\"1\" class=\"dataframe\">\n",
       "  <thead>\n",
       "    <tr style=\"text-align: right;\">\n",
       "      <th></th>\n",
       "      <th>ID</th>\n",
       "      <th>Category</th>\n",
       "      <th>Latitude</th>\n",
       "      <th>Longitude</th>\n",
       "      <th>great_circle_distance</th>\n",
       "      <th>closest</th>\n",
       "      <th>Origin: ID</th>\n",
       "      <th>Origin: Category</th>\n",
       "      <th>Origin: Latitude</th>\n",
       "      <th>Origin: Longitude</th>\n",
       "    </tr>\n",
       "  </thead>\n",
       "  <tbody>\n",
       "    <tr>\n",
       "      <th>0</th>\n",
       "      <td>5</td>\n",
       "      <td>A</td>\n",
       "      <td>40.838419</td>\n",
       "      <td>-73.811787</td>\n",
       "      <td>0.000000</td>\n",
       "      <td>True</td>\n",
       "      <td>5</td>\n",
       "      <td>A</td>\n",
       "      <td>40.838419</td>\n",
       "      <td>-73.811787</td>\n",
       "    </tr>\n",
       "    <tr>\n",
       "      <th>1</th>\n",
       "      <td>124</td>\n",
       "      <td>A</td>\n",
       "      <td>40.843095</td>\n",
       "      <td>-73.805346</td>\n",
       "      <td>0.466632</td>\n",
       "      <td>False</td>\n",
       "      <td>5</td>\n",
       "      <td>A</td>\n",
       "      <td>40.838419</td>\n",
       "      <td>-73.811787</td>\n",
       "    </tr>\n",
       "    <tr>\n",
       "      <th>2</th>\n",
       "      <td>20657</td>\n",
       "      <td>A</td>\n",
       "      <td>40.826284</td>\n",
       "      <td>-73.808752</td>\n",
       "      <td>0.853312</td>\n",
       "      <td>False</td>\n",
       "      <td>5</td>\n",
       "      <td>A</td>\n",
       "      <td>40.838419</td>\n",
       "      <td>-73.811787</td>\n",
       "    </tr>\n",
       "    <tr>\n",
       "      <th>3</th>\n",
       "      <td>10779</td>\n",
       "      <td>A</td>\n",
       "      <td>40.840593</td>\n",
       "      <td>-73.795423</td>\n",
       "      <td>0.868447</td>\n",
       "      <td>False</td>\n",
       "      <td>5</td>\n",
       "      <td>A</td>\n",
       "      <td>40.838419</td>\n",
       "      <td>-73.811787</td>\n",
       "    </tr>\n",
       "    <tr>\n",
       "      <th>4</th>\n",
       "      <td>13352</td>\n",
       "      <td>C</td>\n",
       "      <td>40.822925</td>\n",
       "      <td>-73.797612</td>\n",
       "      <td>1.301966</td>\n",
       "      <td>False</td>\n",
       "      <td>5</td>\n",
       "      <td>A</td>\n",
       "      <td>40.838419</td>\n",
       "      <td>-73.811787</td>\n",
       "    </tr>\n",
       "  </tbody>\n",
       "</table>\n",
       "</div>"
      ],
      "text/plain": [
       "      ID Category   Latitude  Longitude  great_circle_distance  closest  \\\n",
       "0      5        A  40.838419 -73.811787               0.000000     True   \n",
       "1    124        A  40.843095 -73.805346               0.466632    False   \n",
       "2  20657        A  40.826284 -73.808752               0.853312    False   \n",
       "3  10779        A  40.840593 -73.795423               0.868447    False   \n",
       "4  13352        C  40.822925 -73.797612               1.301966    False   \n",
       "\n",
       "   Origin: ID Origin: Category  Origin: Latitude  Origin: Longitude  \n",
       "0           5                A         40.838419         -73.811787  \n",
       "1           5                A         40.838419         -73.811787  \n",
       "2           5                A         40.838419         -73.811787  \n",
       "3           5                A         40.838419         -73.811787  \n",
       "4           5                A         40.838419         -73.811787  "
      ]
     },
     "execution_count": 14,
     "metadata": {},
     "output_type": "execute_result"
    }
   ],
   "source": [
    "results_within_threshold = pd.concat(output_list)\n",
    "results_within_threshold.head()"
   ]
  },
  {
   "cell_type": "markdown",
   "id": "506e40fd",
   "metadata": {},
   "source": [
    "**Save results into csv**. Rename the output as needed."
   ]
  },
  {
   "cell_type": "code",
   "execution_count": 15,
   "id": "f4c2b3bd",
   "metadata": {},
   "outputs": [],
   "source": [
    "results_within_threshold.to_csv(\"sample_output/results_within_10miles_or_closest.csv\")"
   ]
  },
  {
   "cell_type": "code",
   "execution_count": null,
   "id": "b80bbbfe",
   "metadata": {},
   "outputs": [],
   "source": []
  }
 ],
 "metadata": {
  "kernelspec": {
   "display_name": "Python 3 (ipykernel)",
   "language": "python",
   "name": "python3"
  },
  "language_info": {
   "codemirror_mode": {
    "name": "ipython",
    "version": 3
   },
   "file_extension": ".py",
   "mimetype": "text/x-python",
   "name": "python",
   "nbconvert_exporter": "python",
   "pygments_lexer": "ipython3",
   "version": "3.9.5"
  },
  "toc": {
   "base_numbering": 1,
   "nav_menu": {},
   "number_sections": true,
   "sideBar": true,
   "skip_h1_title": false,
   "title_cell": "Table of Contents",
   "title_sidebar": "Contents",
   "toc_cell": false,
   "toc_position": {},
   "toc_section_display": true,
   "toc_window_display": false
  }
 },
 "nbformat": 4,
 "nbformat_minor": 5
}
